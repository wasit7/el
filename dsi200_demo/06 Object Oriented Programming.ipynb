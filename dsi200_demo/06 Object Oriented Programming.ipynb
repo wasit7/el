{
 "cells": [
  {
   "cell_type": "markdown",
   "metadata": {},
   "source": [
    "# 06 Object Oriented Programming:\n",
    "* Class\n",
    "* Data member\n",
    "* Member function\n",
    "* ```__init__```\n",
    "* ```__str__```\n",
    "* Demo Rectangle"
   ]
  },
  {
   "cell_type": "code",
   "execution_count": 1,
   "metadata": {},
   "outputs": [],
   "source": [
    "#data member: class for data storage\n",
    "class TextboxA(object):\n",
    "    width=3 #character\n",
    "    height=20 #character\n",
    "    text=\"read more\""
   ]
  },
  {
   "cell_type": "code",
   "execution_count": 2,
   "metadata": {},
   "outputs": [],
   "source": [
    "x=TextboxA()"
   ]
  },
  {
   "cell_type": "code",
   "execution_count": 3,
   "metadata": {},
   "outputs": [
    {
     "data": {
      "text/plain": [
       "3"
      ]
     },
     "execution_count": 3,
     "metadata": {},
     "output_type": "execute_result"
    }
   ],
   "source": [
    "x.width"
   ]
  },
  {
   "cell_type": "code",
   "execution_count": 4,
   "metadata": {},
   "outputs": [
    {
     "data": {
      "text/plain": [
       "20"
      ]
     },
     "execution_count": 4,
     "metadata": {},
     "output_type": "execute_result"
    }
   ],
   "source": [
    "x.height"
   ]
  },
  {
   "cell_type": "code",
   "execution_count": 5,
   "metadata": {},
   "outputs": [
    {
     "data": {
      "text/plain": [
       "'read more'"
      ]
     },
     "execution_count": 5,
     "metadata": {},
     "output_type": "execute_result"
    }
   ],
   "source": [
    "x.text"
   ]
  },
  {
   "cell_type": "code",
   "execution_count": 6,
   "metadata": {},
   "outputs": [],
   "source": [
    "#member function: process of the class\n",
    "class TextboxB(object):\n",
    "    width=20 #characters\n",
    "    height=1 #lines\n",
    "    text=\"read more\"\n",
    "    \n",
    "    def size(self):\n",
    "        return self.width*self.height"
   ]
  },
  {
   "cell_type": "code",
   "execution_count": 7,
   "metadata": {},
   "outputs": [
    {
     "data": {
      "text/plain": [
       "20"
      ]
     },
     "execution_count": 7,
     "metadata": {},
     "output_type": "execute_result"
    }
   ],
   "source": [
    "x=TextboxB()\n",
    "x.size()"
   ]
  },
  {
   "cell_type": "code",
   "execution_count": 8,
   "metadata": {},
   "outputs": [],
   "source": [
    "class TextboxC(object):\n",
    "    width=20 #characters\n",
    "    height=1 #lines\n",
    "    text=\"read more\"\n",
    "    \n",
    "    def size(self):\n",
    "        return self.width*self.height\n",
    "    \n",
    "    def render(self):\n",
    "        margin=(self.width-len(self.text))//2\n",
    "        print(\"^\" * self.width)\n",
    "        print(\" \" * margin + self.text)\n",
    "        print(\".\" * self.width)\n",
    "    "
   ]
  },
  {
   "cell_type": "code",
   "execution_count": 9,
   "metadata": {},
   "outputs": [
    {
     "name": "stdout",
     "output_type": "stream",
     "text": [
      "^^^^^^^^^^^^^^^^^^^^\n",
      "     read more\n",
      "....................\n"
     ]
    }
   ],
   "source": [
    "x=TextboxC()\n",
    "x.render()"
   ]
  },
  {
   "cell_type": "code",
   "execution_count": 10,
   "metadata": {},
   "outputs": [],
   "source": [
    "class A(object):\n",
    "    def __init__(self, width):\n",
    "        self.width=width\n",
    "        self.height=3"
   ]
  },
  {
   "cell_type": "code",
   "execution_count": 11,
   "metadata": {},
   "outputs": [],
   "source": [
    "class B(object):\n",
    "    def __init__(self, width=0):\n",
    "        self.width=width\n",
    "        self.height=3"
   ]
  },
  {
   "cell_type": "code",
   "execution_count": 15,
   "metadata": {},
   "outputs": [
    {
     "data": {
      "text/plain": [
       "5"
      ]
     },
     "execution_count": 15,
     "metadata": {},
     "output_type": "execute_result"
    }
   ],
   "source": [
    "x=A(5)\n",
    "x.width"
   ]
  },
  {
   "cell_type": "code",
   "execution_count": 16,
   "metadata": {},
   "outputs": [
    {
     "data": {
      "text/plain": [
       "0"
      ]
     },
     "execution_count": 16,
     "metadata": {},
     "output_type": "execute_result"
    }
   ],
   "source": [
    "y=B()\n",
    "y.width"
   ]
  },
  {
   "cell_type": "code",
   "execution_count": 18,
   "metadata": {},
   "outputs": [],
   "source": [
    "class TextboxD(object):\n",
    "    width=20 #characters\n",
    "    height=1 #lines\n",
    "    text=\"read more\"\n",
    "    def __init__(self, text=\"empty\"):\n",
    "        self.text=text\n",
    "        self.width=len(text)+5*2\n",
    "        self.height=3\n",
    "        \n",
    "    def size(self):\n",
    "        return self.width*self.height\n",
    "    \n",
    "    def render(self):\n",
    "        margin=(self.width-len(self.text))//2\n",
    "        print(\"^\" * self.width)\n",
    "        print(\" \" * margin + self.text)\n",
    "        print(\".\" * self.width)"
   ]
  },
  {
   "cell_type": "code",
   "execution_count": 19,
   "metadata": {},
   "outputs": [
    {
     "name": "stdout",
     "output_type": "stream",
     "text": [
      "^^^^^^^^^^^^^^^^^^^^^^^^^^^^^^^^^^^^^^^^^^^^^^^^^^\n",
      "     This is my text-box. It's super awesome.\n",
      "..................................................\n"
     ]
    }
   ],
   "source": [
    "x=TextboxD(\"This is my text-box. It's super awesome.\")\n",
    "x.render()"
   ]
  },
  {
   "cell_type": "code",
   "execution_count": 20,
   "metadata": {},
   "outputs": [
    {
     "name": "stdout",
     "output_type": "stream",
     "text": [
      "^^^^^^^^^^^^^^^\n",
      "     empty\n",
      "...............\n"
     ]
    }
   ],
   "source": [
    "y=TextboxD()\n",
    "y.render()"
   ]
  },
  {
   "cell_type": "code",
   "execution_count": 21,
   "metadata": {},
   "outputs": [
    {
     "name": "stdout",
     "output_type": "stream",
     "text": [
      "^^^^^^^^^^^^^^^^^^^^^^^^^^^^^^^^^^^^^^^^^^^^^^^^^^^\n",
      "     This is my text-box.\n",
      " It's super awesome.\n",
      "...................................................\n"
     ]
    }
   ],
   "source": [
    "z=TextboxD(\"This is my text-box.\\n It's super awesome.\")\n",
    "z.render()"
   ]
  },
  {
   "cell_type": "code",
   "execution_count": 22,
   "metadata": {},
   "outputs": [],
   "source": [
    "class TextboxE(object):\n",
    "    width=20\n",
    "    height=1\n",
    "    text=\"read more\"\n",
    "    def __init__(self, text=\"empty\"):\n",
    "        self.text=text\n",
    "        str_list=text.split(\"\\n\")\n",
    "        longest_str=max(map(len,str_list))\n",
    "        self.width=longest_str+5*2\n",
    "        self.height=len(str_list)\n",
    "        \n",
    "    def size(self):\n",
    "        return self.width*self.height\n",
    "    \n",
    "    def render(self):\n",
    "        print(\"^\" * self.width)\n",
    "        str_list=self.text.split(\"\\n\")\n",
    "        for i in str_list:\n",
    "            margin=(self.width-len(i))//2\n",
    "            print(\" \" * margin + i)\n",
    "            print\n",
    "        print(\".\" * self.width)"
   ]
  },
  {
   "cell_type": "code",
   "execution_count": 23,
   "metadata": {},
   "outputs": [
    {
     "name": "stdout",
     "output_type": "stream",
     "text": [
      "^^^^^^^^^^^^^^^^^^^^^^^^^^^^^^\n",
      "     This is my text-box.\n",
      "     It's super awesome.\n",
      "..............................\n"
     ]
    }
   ],
   "source": [
    "x=TextboxE(\"This is my text-box.\\nIt's super awesome.\")\n",
    "x.render()"
   ]
  },
  {
   "cell_type": "code",
   "execution_count": 24,
   "metadata": {},
   "outputs": [
    {
     "name": "stdout",
     "output_type": "stream",
     "text": [
      "<__main__.TextboxE object at 0x7fa53306ccf8>\n"
     ]
    }
   ],
   "source": [
    "print(x)"
   ]
  },
  {
   "cell_type": "code",
   "execution_count": 25,
   "metadata": {},
   "outputs": [
    {
     "name": "stdout",
     "output_type": "stream",
     "text": [
      "<__main__.C object at 0x7fa53306cc18>\n"
     ]
    }
   ],
   "source": [
    "class C(object):\n",
    "    width=3\n",
    "    height=5\n",
    "\n",
    "x=C()\n",
    "print(x)"
   ]
  },
  {
   "cell_type": "code",
   "execution_count": 26,
   "metadata": {},
   "outputs": [
    {
     "name": "stdout",
     "output_type": "stream",
     "text": [
      "width: 3, height: 5\n"
     ]
    }
   ],
   "source": [
    "class D(object):\n",
    "    width=3\n",
    "    height=5\n",
    "    \n",
    "    def __str__(self):\n",
    "        return \"width: %s, height: %s\"%(self.width, self.height)\n",
    "\n",
    "x=D()\n",
    "print(x)"
   ]
  },
  {
   "cell_type": "code",
   "execution_count": 29,
   "metadata": {},
   "outputs": [],
   "source": [
    "class TextboxE(object):\n",
    "    width=20\n",
    "    height=1\n",
    "    text=\"read more\"\n",
    "    def __init__(self, text=\"empty\"):\n",
    "        self.text=text\n",
    "        str_list=text.split(\"\\n\")\n",
    "        longest_str=max(map(len,str_list))\n",
    "        self.width=longest_str+5*2\n",
    "        self.height=len(str_list)\n",
    "\n",
    "    \n",
    "    def render(self):\n",
    "        print(\"^\" * self.width)\n",
    "        str_list=self.text.split(\"\\n\")\n",
    "        for i in str_list:\n",
    "            margin=(self.width-len(i))//2\n",
    "            print(\" \" * margin + i)\n",
    "            print\n",
    "        print(\".\" * self.width)\n",
    "        \n",
    "    def __str__(self):\n",
    "        buffer=\"\"\n",
    "        buffer+=\"^\" * self.width+\"\\n\"\n",
    "        str_list=self.text.split(\"\\n\")\n",
    "        for i in str_list:\n",
    "            margin=(self.width-len(i))//2\n",
    "            buffer+=\" \" * margin + i +\"\\n\"\n",
    "            print\n",
    "        buffer+=\".\" * self.width\n",
    "        return buffer"
   ]
  },
  {
   "cell_type": "code",
   "execution_count": 30,
   "metadata": {},
   "outputs": [
    {
     "name": "stdout",
     "output_type": "stream",
     "text": [
      "^^^^^^^^^^^^^^^^^^^^^^^^^^^^^^\n",
      "     This is my text-box.\n",
      "     It's super awesome.\n",
      "..............................\n"
     ]
    }
   ],
   "source": [
    "x=TextboxE(\"This is my text-box.\\nIt's super awesome.\")\n",
    "x.render()"
   ]
  },
  {
   "cell_type": "code",
   "execution_count": 31,
   "metadata": {},
   "outputs": [
    {
     "name": "stdout",
     "output_type": "stream",
     "text": [
      "^^^^^^^^^^^^^^^^^^^^^^^^^^^^^^\n",
      "     This is my text-box.\n",
      "     It's super awesome.\n",
      "..............................\n"
     ]
    }
   ],
   "source": [
    "print(x)"
   ]
  },
  {
   "cell_type": "code",
   "execution_count": null,
   "metadata": {},
   "outputs": [],
   "source": []
  }
 ],
 "metadata": {
  "kernelspec": {
   "display_name": "Python 3",
   "language": "python",
   "name": "python3"
  },
  "language_info": {
   "codemirror_mode": {
    "name": "ipython",
    "version": 3
   },
   "file_extension": ".py",
   "mimetype": "text/x-python",
   "name": "python",
   "nbconvert_exporter": "python",
   "pygments_lexer": "ipython3",
   "version": "3.6.11"
  }
 },
 "nbformat": 4,
 "nbformat_minor": 4
}
