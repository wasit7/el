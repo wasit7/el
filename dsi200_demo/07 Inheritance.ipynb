{
 "cells": [
  {
   "cell_type": "markdown",
   "metadata": {},
   "source": [
    "# Inheritance\n",
    "* Inheritance\n",
    "* Overriding\n",
    "* Rectangle\n",
    "* Square\n",
    "* Textbox"
   ]
  },
  {
   "cell_type": "code",
   "execution_count": 18,
   "metadata": {},
   "outputs": [
    {
     "data": {
      "text/plain": [
       "12"
      ]
     },
     "execution_count": 18,
     "metadata": {},
     "output_type": "execute_result"
    }
   ],
   "source": [
    "class A(object):\n",
    "    width=5\n",
    "\n",
    "class B():\n",
    "    height=3\n",
    "\n",
    "class C(A,B):\n",
    "    height=7\n",
    "\n",
    "x=A()\n",
    "y=B()\n",
    "z=C()\n",
    "\n",
    "z.height+z.width"
   ]
  },
  {
   "cell_type": "code",
   "execution_count": 2,
   "metadata": {},
   "outputs": [
    {
     "name": "stdout",
     "output_type": "stream",
     "text": [
      "x.width: 3\n",
      "y.width: 3, y.height: 7\n"
     ]
    }
   ],
   "source": [
    "class A(object):\n",
    "    width=3\n",
    "\n",
    "class B(A):\n",
    "    height=7\n",
    "    \n",
    "x=A()\n",
    "y=B()\n",
    "\n",
    "print(\"x.width: %s\"%(x.width))\n",
    "print(\"y.width: %s, y.height: %s\"%(y.width,y.height))"
   ]
  },
  {
   "cell_type": "code",
   "execution_count": null,
   "metadata": {},
   "outputs": [],
   "source": [
    "class A(object):\n",
    "    width=3\n",
    "\n",
    "class B(A):\n",
    "    width=5 #overrided data member\n",
    "    height=7\n",
    "    \n",
    "x=A()\n",
    "y=B()\n",
    "\n",
    "print(\"x.width: %s\"%(x.width))\n",
    "print(\"y.width: %s, y.height: %s\"%(y.width,y.height))"
   ]
  },
  {
   "cell_type": "code",
   "execution_count": 3,
   "metadata": {},
   "outputs": [],
   "source": [
    "class Rectangle(object):\n",
    "    def __init__(self, w=0, h=0):\n",
    "        self.w=w\n",
    "        self.h=h\n",
    "        \n",
    "    def area(self):\n",
    "        return self.w*self.h\n",
    "        \n",
    "    def __str__(self):\n",
    "        return \"w:%s h:%s area:%s\"%(self.w, self.h, self.area())\n",
    "    \n",
    "class Square(Rectangle):\n",
    "    def __init__(self, w=0):\n",
    "        self.w=w\n",
    "        self.h=w"
   ]
  },
  {
   "cell_type": "code",
   "execution_count": 4,
   "metadata": {},
   "outputs": [],
   "source": [
    "x=Rectangle(w=3,h=4)"
   ]
  },
  {
   "cell_type": "code",
   "execution_count": 5,
   "metadata": {},
   "outputs": [
    {
     "name": "stdout",
     "output_type": "stream",
     "text": [
      "w:3 h:4 area:12\n"
     ]
    }
   ],
   "source": [
    "print(x)"
   ]
  },
  {
   "cell_type": "code",
   "execution_count": 6,
   "metadata": {},
   "outputs": [
    {
     "name": "stdout",
     "output_type": "stream",
     "text": [
      "w:4 h:4 area:16\n"
     ]
    }
   ],
   "source": [
    "y=Square(4)\n",
    "print(y)"
   ]
  },
  {
   "cell_type": "code",
   "execution_count": 7,
   "metadata": {},
   "outputs": [
    {
     "data": {
      "text/plain": [
       "16"
      ]
     },
     "execution_count": 7,
     "metadata": {},
     "output_type": "execute_result"
    }
   ],
   "source": [
    "y.area()"
   ]
  },
  {
   "cell_type": "code",
   "execution_count": 8,
   "metadata": {},
   "outputs": [
    {
     "name": "stdout",
     "output_type": "stream",
     "text": [
      "x.width: 3\n",
      "y.width: 6\n"
     ]
    }
   ],
   "source": [
    "class A(object):\n",
    "    width=3\n",
    "\n",
    "class B(A):\n",
    "    def __init__(self):\n",
    "        self.width=super().width*2\n",
    "    \n",
    "x=A()\n",
    "y=B()\n",
    "\n",
    "print(\"x.width: %s\"%(x.width))\n",
    "print(\"y.width: %s\"%(y.width))"
   ]
  },
  {
   "cell_type": "code",
   "execution_count": 9,
   "metadata": {},
   "outputs": [],
   "source": [
    "class Textbox(object):\n",
    "    \"\"\"\n",
    "    This is my base class for simple textbox\n",
    "    \"\"\"\n",
    "    top=\"^\"\n",
    "    bottom=\".\"\n",
    "    def __init__(self, text=\"empty\"):\n",
    "        self.text=text\n",
    "        str_list=text.split(\"\\n\")\n",
    "        longest_str=max(map(len,str_list))\n",
    "        self.width=longest_str+5*2\n",
    "        self.height=len(str_list)\n",
    "        \n",
    "    def __str__(self):\n",
    "        buffer=\"\"\n",
    "        buffer+=self.top * self.width+\"\\n\"\n",
    "        str_list=self.text.split(\"\\n\")\n",
    "        for i in str_list:\n",
    "            margin=(self.width-len(i))//2\n",
    "            buffer+=\" \" * margin + i +\"\\n\"\n",
    "            print\n",
    "        buffer+=self.bottom * self.width\n",
    "        return buffer\n",
    "    \n",
    "    def render(self):\n",
    "        \"\"\"\n",
    "        To print the textbox on command line\n",
    "        \"\"\"\n",
    "        print(self)"
   ]
  },
  {
   "cell_type": "code",
   "execution_count": 10,
   "metadata": {},
   "outputs": [
    {
     "name": "stdout",
     "output_type": "stream",
     "text": [
      "^^^^^^^^^^^^^^^\n",
      "     empty\n",
      "...............\n"
     ]
    }
   ],
   "source": [
    "x=Textbox()\n",
    "x.render()"
   ]
  },
  {
   "cell_type": "code",
   "execution_count": 11,
   "metadata": {},
   "outputs": [],
   "source": [
    "class TextboxA(Textbox):\n",
    "    def __init__(self,text=\"empty\"):\n",
    "        self.top='a'\n",
    "        self.bottom='a'\n",
    "        super().__init__(text)\n",
    "        \n",
    "class TextboxB(Textbox):        \n",
    "    def __str__(self):\n",
    "        return super().__str__().upper()"
   ]
  },
  {
   "cell_type": "code",
   "execution_count": 12,
   "metadata": {},
   "outputs": [
    {
     "name": "stdout",
     "output_type": "stream",
     "text": [
      "^^^^^^^^^^^^^^^^^^^^\n",
      "     my textbox\n",
      "....................\n"
     ]
    }
   ],
   "source": [
    "x=Textbox('my textbox')\n",
    "x.render()"
   ]
  },
  {
   "cell_type": "code",
   "execution_count": 13,
   "metadata": {},
   "outputs": [
    {
     "name": "stdout",
     "output_type": "stream",
     "text": [
      "aaaaaaaaaaaaaaaaaaaa\n",
      "     my textbox\n",
      "aaaaaaaaaaaaaaaaaaaa\n"
     ]
    }
   ],
   "source": [
    "y=TextboxA('my textbox')\n",
    "y.render()"
   ]
  },
  {
   "cell_type": "code",
   "execution_count": 14,
   "metadata": {},
   "outputs": [
    {
     "name": "stdout",
     "output_type": "stream",
     "text": [
      "^^^^^^^^^^^^^^^^^^^^\n",
      "     MY TEXTBOX\n",
      "....................\n"
     ]
    }
   ],
   "source": [
    "z=TextboxB('my textbox')\n",
    "z.render()"
   ]
  },
  {
   "cell_type": "code",
   "execution_count": null,
   "metadata": {},
   "outputs": [],
   "source": []
  },
  {
   "cell_type": "code",
   "execution_count": null,
   "metadata": {},
   "outputs": [],
   "source": []
  }
 ],
 "metadata": {
  "kernelspec": {
   "display_name": "Python 3",
   "language": "python",
   "name": "python3"
  },
  "language_info": {
   "codemirror_mode": {
    "name": "ipython",
    "version": 3
   },
   "file_extension": ".py",
   "mimetype": "text/x-python",
   "name": "python",
   "nbconvert_exporter": "python",
   "pygments_lexer": "ipython3",
   "version": "3.6.11"
  }
 },
 "nbformat": 4,
 "nbformat_minor": 4
}
