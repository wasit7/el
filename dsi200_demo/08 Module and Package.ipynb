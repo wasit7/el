{
 "cells": [
  {
   "cell_type": "markdown",
   "metadata": {},
   "source": [
    "# Module and Package\n",
    "* Module\n",
    "* Package\n",
    "* conda environment\n",
    "* pip\n",
    "* requirement"
   ]
  },
  {
   "cell_type": "code",
   "execution_count": 1,
   "metadata": {},
   "outputs": [
    {
     "name": "stdout",
     "output_type": "stream",
     "text": [
      ".\n",
      "├── 02 print and input.ipynb\n",
      "├── 03 Python Variables and Operators.ipynb\n",
      "├── 04 Iterable, For-Loop, String.ipynb\n",
      "├── 05 Python Function.ipynb\n",
      "├── 06 Object Oriented Programming.ipynb\n",
      "├── 07 Inheritance.ipynb\n",
      "├── 08 Module and Package.ipynb\n",
      "├── mymodule.py\n",
      "├── mypackage\n",
      "│   ├── __init__.py\n",
      "│   ├── myrectangle.py\n",
      "│   ├── mytextbox.py\n",
      "│   └── __pycache__\n",
      "│       ├── myrectangle.cpython-36.pyc\n",
      "│       └── mytextbox.cpython-36.pyc\n",
      "└── __pycache__\n",
      "    └── mymodule.cpython-36.pyc\n",
      "\n",
      "3 directories, 14 files\n"
     ]
    }
   ],
   "source": [
    "%%sh\n",
    "tree"
   ]
  },
  {
   "cell_type": "code",
   "execution_count": 2,
   "metadata": {},
   "outputs": [],
   "source": [
    "from mymodule import Textbox, TextboxA, TextboxB"
   ]
  },
  {
   "cell_type": "code",
   "execution_count": 3,
   "metadata": {},
   "outputs": [],
   "source": [
    "x=Textbox('my textbox')\n",
    "y=TextboxA('my textbox')\n",
    "z=TextboxB('my textbox')"
   ]
  },
  {
   "cell_type": "code",
   "execution_count": 4,
   "metadata": {},
   "outputs": [
    {
     "name": "stdout",
     "output_type": "stream",
     "text": [
      "^^^^^^^^^^^^^^^^^^^^\n",
      "     my textbox\n",
      "....................\n"
     ]
    }
   ],
   "source": [
    "x.render()"
   ]
  },
  {
   "cell_type": "code",
   "execution_count": 5,
   "metadata": {},
   "outputs": [
    {
     "name": "stdout",
     "output_type": "stream",
     "text": [
      "aaaaaaaaaaaaaaaaaaaa\n",
      "     my textbox\n",
      "aaaaaaaaaaaaaaaaaaaa\n"
     ]
    }
   ],
   "source": [
    "y.render()"
   ]
  },
  {
   "cell_type": "code",
   "execution_count": 6,
   "metadata": {},
   "outputs": [
    {
     "name": "stdout",
     "output_type": "stream",
     "text": [
      "^^^^^^^^^^^^^^^^^^^^\n",
      "     MY TEXTBOX\n",
      "....................\n"
     ]
    }
   ],
   "source": [
    "z.render()"
   ]
  },
  {
   "cell_type": "code",
   "execution_count": 7,
   "metadata": {},
   "outputs": [
    {
     "name": "stdout",
     "output_type": "stream",
     "text": [
      "This __init__.py run once during importing\n"
     ]
    }
   ],
   "source": [
    "from mypackage import mytextbox as mt\n",
    "from mypackage import myrectangle as mr"
   ]
  },
  {
   "cell_type": "code",
   "execution_count": 8,
   "metadata": {},
   "outputs": [
    {
     "name": "stdout",
     "output_type": "stream",
     "text": [
      "aaaaaaaaaaaaaaa\n",
      "     Hello\n",
      "aaaaaaaaaaaaaaa\n"
     ]
    }
   ],
   "source": [
    "x=mt.TextboxA('Hello')\n",
    "x.render()"
   ]
  },
  {
   "cell_type": "code",
   "execution_count": 9,
   "metadata": {},
   "outputs": [
    {
     "name": "stdout",
     "output_type": "stream",
     "text": [
      "w:5 h:5 area:25\n"
     ]
    }
   ],
   "source": [
    "y=mr.Square(5)\n",
    "print(y)"
   ]
  },
  {
   "cell_type": "code",
   "execution_count": 10,
   "metadata": {},
   "outputs": [
    {
     "name": "stdout",
     "output_type": "stream",
     "text": [
      "# conda environments:\n",
      "#\n",
      "base                     /home/wasit/miniconda3\n",
      "2019                     /home/wasit/miniconda3/envs/2019\n",
      "2020                     /home/wasit/miniconda3/envs/2020\n",
      "20202                    /home/wasit/miniconda3/envs/20202\n",
      "CenterNet                /home/wasit/miniconda3/envs/CenterNet\n",
      "aiat1                    /home/wasit/miniconda3/envs/aiat1\n",
      "aikid                    /home/wasit/miniconda3/envs/aikid\n",
      "anuga                    /home/wasit/miniconda3/envs/anuga\n",
      "arena                    /home/wasit/miniconda3/envs/arena\n",
      "aru                      /home/wasit/miniconda3/envs/aru\n",
      "aws                      /home/wasit/miniconda3/envs/aws\n",
      "baycom                   /home/wasit/miniconda3/envs/baycom\n",
      "cs245                    /home/wasit/miniconda3/envs/cs245\n",
      "cs245s                   /home/wasit/miniconda3/envs/cs245s\n",
      "cs409                    /home/wasit/miniconda3/envs/cs409\n",
      "cs459_2020               /home/wasit/miniconda3/envs/cs459_2020\n",
      "cs652                    /home/wasit/miniconda3/envs/cs652\n",
      "cs653                    /home/wasit/miniconda3/envs/cs653\n",
      "depa                     /home/wasit/miniconda3/envs/depa\n",
      "dsi200                   /home/wasit/miniconda3/envs/dsi200\n",
      "dsi200_demo           *  /home/wasit/miniconda3/envs/dsi200_demo\n",
      "dsi202                   /home/wasit/miniconda3/envs/dsi202\n",
      "dsm                      /home/wasit/miniconda3/envs/dsm\n",
      "dti                      /home/wasit/miniconda3/envs/dti\n",
      "el                       /home/wasit/miniconda3/envs/el\n",
      "endesive                 /home/wasit/miniconda3/envs/endesive\n",
      "env                      /home/wasit/miniconda3/envs/env\n",
      "envel                    /home/wasit/miniconda3/envs/envel\n",
      "exam_skr                 /home/wasit/miniconda3/envs/exam_skr\n",
      "fablab                   /home/wasit/miniconda3/envs/fablab\n",
      "facetag                  /home/wasit/miniconda3/envs/facetag\n",
      "flask                    /home/wasit/miniconda3/envs/flask\n",
      "geo                      /home/wasit/miniconda3/envs/geo\n",
      "gic                      /home/wasit/miniconda3/envs/gic\n",
      "giciot                   /home/wasit/miniconda3/envs/giciot\n",
      "intel                    /home/wasit/miniconda3/envs/intel\n",
      "iot                      /home/wasit/miniconda3/envs/iot\n",
      "kepler-jupyterlab        /home/wasit/miniconda3/envs/kepler-jupyterlab\n",
      "mobility                 /home/wasit/miniconda3/envs/mobility\n",
      "neptune                  /home/wasit/miniconda3/envs/neptune\n",
      "pgadmin                  /home/wasit/miniconda3/envs/pgadmin\n",
      "pychromecast             /home/wasit/miniconda3/envs/pychromecast\n",
      "python2.7                /home/wasit/miniconda3/envs/python2.7\n",
      "python37                 /home/wasit/miniconda3/envs/python37\n",
      "pytourch                 /home/wasit/miniconda3/envs/pytourch\n",
      "spinningup               /home/wasit/miniconda3/envs/spinningup\n",
      "tf2                      /home/wasit/miniconda3/envs/tf2\n",
      "tmb                      /home/wasit/miniconda3/envs/tmb\n",
      "trfai                    /home/wasit/miniconda3/envs/trfai\n",
      "tso                      /home/wasit/miniconda3/envs/tso\n",
      "wespace                  /home/wasit/miniconda3/envs/wespace\n",
      "\n"
     ]
    }
   ],
   "source": [
    "%%sh\n",
    "conda env list"
   ]
  },
  {
   "cell_type": "code",
   "execution_count": null,
   "metadata": {},
   "outputs": [],
   "source": []
  }
 ],
 "metadata": {
  "kernelspec": {
   "display_name": "Python 3",
   "language": "python",
   "name": "python3"
  },
  "language_info": {
   "codemirror_mode": {
    "name": "ipython",
    "version": 3
   },
   "file_extension": ".py",
   "mimetype": "text/x-python",
   "name": "python",
   "nbconvert_exporter": "python",
   "pygments_lexer": "ipython3",
   "version": "3.6.9"
  }
 },
 "nbformat": 4,
 "nbformat_minor": 4
}
