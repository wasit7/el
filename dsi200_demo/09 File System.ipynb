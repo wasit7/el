{
 "cells": [
  {
   "cell_type": "markdown",
   "metadata": {},
   "source": [
    "# File System\n",
    "* File and Directory\n",
    "* Command Line\n",
    "* Magic Command\n",
    "* Module OS \n",
    "* glob"
   ]
  },
  {
   "cell_type": "markdown",
   "metadata": {},
   "source": [
    "# File and Directory"
   ]
  },
  {
   "cell_type": "markdown",
   "metadata": {},
   "source": [
    "## Bash Shell Command for Unix\n",
    "These are bash commands\n",
    "```sh\n",
    "  cd    to change directory\n",
    "  pwd   to show path of the current directory\n",
    "  ls    to list files and sub-directory in the current directory\n",
    "  tree  to show tree structure of the current directory\n",
    "```"
   ]
  },
  {
   "cell_type": "code",
   "execution_count": 1,
   "metadata": {},
   "outputs": [
    {
     "name": "stdout",
     "output_type": "stream",
     "text": [
      "/home/wasit/github/el/dsi200_demo\n"
     ]
    }
   ],
   "source": [
    "cd /home/wasit/github/el/dsi200_demo"
   ]
  },
  {
   "cell_type": "code",
   "execution_count": 2,
   "metadata": {},
   "outputs": [
    {
     "name": "stdout",
     "output_type": "stream",
     "text": [
      "/home/wasit/github/el/dsi200_demo\n"
     ]
    }
   ],
   "source": [
    "%%bash\n",
    "pwd"
   ]
  },
  {
   "cell_type": "code",
   "execution_count": 3,
   "metadata": {},
   "outputs": [
    {
     "name": "stdout",
     "output_type": "stream",
     "text": [
      "'02 print and input.ipynb'                 '_extra boolean.ipynb'\r\n",
      "'03 Python Variables and Operators.ipynb'  '_extra probability.ipynb'\r\n",
      "'04 Iterable, For-Loop, String.ipynb'       helloworld.ipynb\r\n",
      "'05 Python Function.ipynb'                  \u001b[0m\u001b[01;35mlighthouse.png\u001b[0m\r\n",
      "'06 Object Oriented Programming.ipynb'      \u001b[01;34mmy_dir\u001b[0m/\r\n",
      "'07 Inheritance.ipynb'                      mymodule.py\r\n",
      "'08 Module and Package.ipynb'               \u001b[01;34mmypackage\u001b[0m/\r\n",
      "'09 File System.ipynb'                      \u001b[01;34m__pycache__\u001b[0m/\r\n",
      "'10 Python Utility Tools.ipynb'             requirements.txt\r\n",
      "'11 numpy.ipynb'                            test.npy\r\n",
      "'12 matplotlib.ipynb'                       Untitled.ipynb\r\n",
      " data.pickle\r\n"
     ]
    }
   ],
   "source": [
    "ls"
   ]
  },
  {
   "cell_type": "code",
   "execution_count": 4,
   "metadata": {},
   "outputs": [
    {
     "name": "stdout",
     "output_type": "stream",
     "text": [
      ".\n",
      "├── 02 print and input.ipynb\n",
      "├── 03 Python Variables and Operators.ipynb\n",
      "├── 04 Iterable, For-Loop, String.ipynb\n",
      "├── 05 Python Function.ipynb\n",
      "├── 06 Object Oriented Programming.ipynb\n",
      "├── 07 Inheritance.ipynb\n",
      "├── 08 Module and Package.ipynb\n",
      "├── 09 File System.ipynb\n",
      "├── 10 Python Utility Tools.ipynb\n",
      "├── 11 numpy.ipynb\n",
      "├── 12 matplotlib.ipynb\n",
      "├── data.pickle\n",
      "├── _extra boolean.ipynb\n",
      "├── _extra probability.ipynb\n",
      "├── helloworld.ipynb\n",
      "├── lighthouse.png\n",
      "├── my_dir\n",
      "│   ├── dataset1\n",
      "│   │   ├── a.txt\n",
      "│   │   └── b.txt\n",
      "│   ├── dataset2\n",
      "│   │   ├── c.txt\n",
      "│   │   ├── dataset3\n",
      "│   │   │   ├── e.txt\n",
      "│   │   │   └── f.txt\n",
      "│   │   └── d.txt\n",
      "│   ├── index.php\n",
      "│   ├── readme.txt\n",
      "│   └── serialization\n",
      "│       └── data.json\n",
      "├── mymodule.py\n",
      "├── mypackage\n",
      "│   ├── __init__.py\n",
      "│   ├── myrectangle.py\n",
      "│   ├── mytextbox.py\n",
      "│   └── __pycache__\n",
      "│       ├── __init__.cpython-36.pyc\n",
      "│       ├── myrectangle.cpython-36.pyc\n",
      "│       └── mytextbox.cpython-36.pyc\n",
      "├── __pycache__\n",
      "│   └── mymodule.cpython-36.pyc\n",
      "├── requirements.txt\n",
      "├── test.npy\n",
      "└── Untitled.ipynb\n",
      "\n",
      "8 directories, 36 files\n"
     ]
    }
   ],
   "source": [
    "%%bash\n",
    "tree"
   ]
  },
  {
   "cell_type": "markdown",
   "metadata": {},
   "source": [
    "## File system note\n",
    "```python\n",
    "    os.makedirs(dir_name)\n",
    "        #create a new directory\n",
    "    os.removedirs(dir_name)\n",
    "        #delete the directory\n",
    "    rel_path = os.curdir()\n",
    "        #check current location in relative path\n",
    "    abs_path = os.path.abspath(path)\n",
    "        #check current location in absolute path\n",
    "    new_path = os.path.join(path,dir_name)\n",
    "        #crete a new path by joining existing path and directory\n",
    "    path     = os.chdir(next_dir)\n",
    "        #change path to next directory\n",
    "    dir_list = os.listdir()\n",
    "        #list files and subdirectory at the current location\n",
    "    os.walk()\n",
    "        #transversing through all directories\n",
    "    glob\n",
    "        #list all matching path\n",
    "```"
   ]
  },
  {
   "cell_type": "markdown",
   "metadata": {},
   "source": [
    "## Create and Delete Directory"
   ]
  },
  {
   "cell_type": "code",
   "execution_count": 5,
   "metadata": {},
   "outputs": [],
   "source": [
    "import os\n",
    "dir_name='new_dir'\n",
    "if not os.path.exists(dir_name):\n",
    "    os.makedirs(dir_name)"
   ]
  },
  {
   "cell_type": "code",
   "execution_count": 6,
   "metadata": {},
   "outputs": [
    {
     "name": "stdout",
     "output_type": "stream",
     "text": [
      "'02 print and input.ipynb'                 '_extra boolean.ipynb'\r\n",
      "'03 Python Variables and Operators.ipynb'  '_extra probability.ipynb'\r\n",
      "'04 Iterable, For-Loop, String.ipynb'       helloworld.ipynb\r\n",
      "'05 Python Function.ipynb'                  \u001b[0m\u001b[01;35mlighthouse.png\u001b[0m\r\n",
      "'06 Object Oriented Programming.ipynb'      \u001b[01;34mmy_dir\u001b[0m/\r\n",
      "'07 Inheritance.ipynb'                      mymodule.py\r\n",
      "'08 Module and Package.ipynb'               \u001b[01;34mmypackage\u001b[0m/\r\n",
      "'09 File System.ipynb'                      \u001b[01;34mnew_dir\u001b[0m/\r\n",
      "'10 Python Utility Tools.ipynb'             \u001b[01;34m__pycache__\u001b[0m/\r\n",
      "'11 numpy.ipynb'                            requirements.txt\r\n",
      "'12 matplotlib.ipynb'                       test.npy\r\n",
      " data.pickle                                Untitled.ipynb\r\n"
     ]
    }
   ],
   "source": [
    "ls"
   ]
  },
  {
   "cell_type": "code",
   "execution_count": 7,
   "metadata": {},
   "outputs": [],
   "source": [
    "os.removedirs(dir_name)"
   ]
  },
  {
   "cell_type": "code",
   "execution_count": 8,
   "metadata": {},
   "outputs": [
    {
     "name": "stdout",
     "output_type": "stream",
     "text": [
      "'02 print and input.ipynb'                 '_extra boolean.ipynb'\r\n",
      "'03 Python Variables and Operators.ipynb'  '_extra probability.ipynb'\r\n",
      "'04 Iterable, For-Loop, String.ipynb'       helloworld.ipynb\r\n",
      "'05 Python Function.ipynb'                  \u001b[0m\u001b[01;35mlighthouse.png\u001b[0m\r\n",
      "'06 Object Oriented Programming.ipynb'      \u001b[01;34mmy_dir\u001b[0m/\r\n",
      "'07 Inheritance.ipynb'                      mymodule.py\r\n",
      "'08 Module and Package.ipynb'               \u001b[01;34mmypackage\u001b[0m/\r\n",
      "'09 File System.ipynb'                      \u001b[01;34m__pycache__\u001b[0m/\r\n",
      "'10 Python Utility Tools.ipynb'             requirements.txt\r\n",
      "'11 numpy.ipynb'                            test.npy\r\n",
      "'12 matplotlib.ipynb'                       Untitled.ipynb\r\n",
      " data.pickle\r\n"
     ]
    }
   ],
   "source": [
    "ls"
   ]
  },
  {
   "cell_type": "markdown",
   "metadata": {},
   "source": [
    "## Check Current Directory"
   ]
  },
  {
   "cell_type": "code",
   "execution_count": 9,
   "metadata": {},
   "outputs": [
    {
     "data": {
      "text/plain": [
       "'.'"
      ]
     },
     "execution_count": 9,
     "metadata": {},
     "output_type": "execute_result"
    }
   ],
   "source": [
    "#current directory (relative path)\n",
    "import os\n",
    "path=os.curdir \n",
    "path"
   ]
  },
  {
   "cell_type": "code",
   "execution_count": 10,
   "metadata": {},
   "outputs": [
    {
     "data": {
      "text/plain": [
       "'/home/wasit/github/el/dsi200_demo'"
      ]
     },
     "execution_count": 10,
     "metadata": {},
     "output_type": "execute_result"
    }
   ],
   "source": [
    "#current directory (absolute path)\n",
    "path=os.path.abspath(os.curdir)\n",
    "path"
   ]
  },
  {
   "cell_type": "code",
   "execution_count": 11,
   "metadata": {},
   "outputs": [
    {
     "data": {
      "text/plain": [
       "'/home/wasit/github/el/dsi200_demo'"
      ]
     },
     "execution_count": 11,
     "metadata": {},
     "output_type": "execute_result"
    }
   ],
   "source": [
    "os.path.abspath('.')"
   ]
  },
  {
   "cell_type": "markdown",
   "metadata": {},
   "source": [
    "## Change Directory using Python"
   ]
  },
  {
   "cell_type": "code",
   "execution_count": 47,
   "metadata": {},
   "outputs": [],
   "source": [
    "os.chdir('..')"
   ]
  },
  {
   "cell_type": "code",
   "execution_count": 48,
   "metadata": {},
   "outputs": [],
   "source": [
    "path=os.path.abspath(os.curdir)\n",
    "working_dir=os.path.join(path,'my_dir')"
   ]
  },
  {
   "cell_type": "code",
   "execution_count": 49,
   "metadata": {},
   "outputs": [
    {
     "data": {
      "text/plain": [
       "'/home/wasit/github/el/dsi200_demo'"
      ]
     },
     "execution_count": 49,
     "metadata": {},
     "output_type": "execute_result"
    }
   ],
   "source": [
    "path"
   ]
  },
  {
   "cell_type": "code",
   "execution_count": 50,
   "metadata": {},
   "outputs": [
    {
     "data": {
      "text/plain": [
       "'/home/wasit/github/el/dsi200_demo/my_dir'"
      ]
     },
     "execution_count": 50,
     "metadata": {},
     "output_type": "execute_result"
    }
   ],
   "source": [
    "working_dir"
   ]
  },
  {
   "cell_type": "code",
   "execution_count": 51,
   "metadata": {},
   "outputs": [
    {
     "data": {
      "text/plain": [
       "'/home/wasit/github/el/dsi200_demo'"
      ]
     },
     "execution_count": 51,
     "metadata": {},
     "output_type": "execute_result"
    }
   ],
   "source": [
    "pwd"
   ]
  },
  {
   "cell_type": "code",
   "execution_count": 52,
   "metadata": {},
   "outputs": [],
   "source": [
    "os.chdir('my_dir')"
   ]
  },
  {
   "cell_type": "code",
   "execution_count": 53,
   "metadata": {},
   "outputs": [
    {
     "data": {
      "text/plain": [
       "'/home/wasit/github/el/dsi200_demo/my_dir'"
      ]
     },
     "execution_count": 53,
     "metadata": {},
     "output_type": "execute_result"
    }
   ],
   "source": [
    "pwd"
   ]
  },
  {
   "cell_type": "code",
   "execution_count": 54,
   "metadata": {},
   "outputs": [],
   "source": [
    "# this create an error\n",
    "#os.chdir('my_dir')"
   ]
  },
  {
   "cell_type": "code",
   "execution_count": 55,
   "metadata": {},
   "outputs": [],
   "source": [
    "os.chdir(working_dir)"
   ]
  },
  {
   "cell_type": "code",
   "execution_count": 56,
   "metadata": {},
   "outputs": [
    {
     "data": {
      "text/plain": [
       "'/home/wasit/github/el/dsi200_demo/my_dir'"
      ]
     },
     "execution_count": 56,
     "metadata": {},
     "output_type": "execute_result"
    }
   ],
   "source": [
    "pwd"
   ]
  },
  {
   "cell_type": "code",
   "execution_count": 57,
   "metadata": {},
   "outputs": [
    {
     "name": "stdout",
     "output_type": "stream",
     "text": [
      "\u001b[0m\u001b[01;34mdataset1\u001b[0m/  \u001b[01;34mdataset2\u001b[0m/  index.php  readme.txt  \u001b[01;34mserialization\u001b[0m/\r\n"
     ]
    }
   ],
   "source": [
    "ls"
   ]
  },
  {
   "cell_type": "markdown",
   "metadata": {},
   "source": [
    "## List files and directories"
   ]
  },
  {
   "cell_type": "code",
   "execution_count": 58,
   "metadata": {},
   "outputs": [
    {
     "name": "stdout",
     "output_type": "stream",
     "text": [
      ".\n",
      "├── dataset1\n",
      "│   ├── a.txt\n",
      "│   └── b.txt\n",
      "├── dataset2\n",
      "│   ├── c.txt\n",
      "│   ├── dataset3\n",
      "│   │   ├── e.txt\n",
      "│   │   └── f.txt\n",
      "│   └── d.txt\n",
      "├── index.php\n",
      "├── readme.txt\n",
      "└── serialization\n",
      "    └── data.json\n",
      "\n",
      "4 directories, 9 files\n"
     ]
    }
   ],
   "source": [
    "%%bash\n",
    "tree"
   ]
  },
  {
   "cell_type": "code",
   "execution_count": 59,
   "metadata": {},
   "outputs": [
    {
     "data": {
      "text/plain": [
       "['.ipynb_checkpoints',\n",
       " 'dataset2',\n",
       " 'readme.txt',\n",
       " 'index.php',\n",
       " 'dataset1',\n",
       " 'serialization']"
      ]
     },
     "execution_count": 59,
     "metadata": {},
     "output_type": "execute_result"
    }
   ],
   "source": [
    "# Python list directories and files in current position\n",
    "os.listdir() "
   ]
  },
  {
   "cell_type": "code",
   "execution_count": 60,
   "metadata": {},
   "outputs": [
    {
     "name": "stdout",
     "output_type": "stream",
     "text": [
      "./.ipynb_checkpoints\n",
      "./dataset2\n",
      "./dataset1\n",
      "./serialization\n",
      "./dataset2/dataset3\n"
     ]
    }
   ],
   "source": [
    "# Python list all directories recursively\n",
    "path='.'\n",
    "for path,dirs,files in os.walk(path):\n",
    "    for d in dirs:\n",
    "        print(os.path.join(path,d))"
   ]
  },
  {
   "cell_type": "code",
   "execution_count": 61,
   "metadata": {},
   "outputs": [
    {
     "name": "stdout",
     "output_type": "stream",
     "text": [
      "./readme.txt\n",
      "./index.php\n",
      "./dataset2/c.txt\n",
      "./dataset2/d.txt\n",
      "./dataset2/dataset3/e.txt\n",
      "./dataset2/dataset3/f.txt\n",
      "./dataset1/b.txt\n",
      "./dataset1/a.txt\n",
      "./serialization/data.json\n"
     ]
    }
   ],
   "source": [
    "# Python list all file in all directories\n",
    "path='.'\n",
    "for path,dirs,files in os.walk(path):\n",
    "    for f in files:\n",
    "        print(os.path.join(path,f))"
   ]
  },
  {
   "cell_type": "markdown",
   "metadata": {},
   "source": [
    "# glob\n",
    "https://en.wikipedia.org/wiki/Glob_(programming)"
   ]
  },
  {
   "cell_type": "code",
   "execution_count": 62,
   "metadata": {},
   "outputs": [
    {
     "data": {
      "text/plain": [
       "['dataset2', 'readme.txt', 'index.php', 'dataset1', 'serialization']"
      ]
     },
     "execution_count": 62,
     "metadata": {},
     "output_type": "execute_result"
    }
   ],
   "source": [
    "import glob\n",
    "glob.glob('*',recursive=True)"
   ]
  },
  {
   "cell_type": "code",
   "execution_count": 63,
   "metadata": {},
   "outputs": [
    {
     "name": "stdout",
     "output_type": "stream",
     "text": [
      "['./readme.txt']\n",
      "['./dataset2/c.txt', './dataset2/d.txt', './dataset1/b.txt', './dataset1/a.txt']\n",
      "['./dataset2/dataset3/e.txt', './dataset2/dataset3/f.txt']\n"
     ]
    }
   ],
   "source": [
    "import glob\n",
    "print(glob.glob('./*.txt',recursive=True))\n",
    "print(glob.glob('./*/*.txt',recursive=True))\n",
    "print(glob.glob('./*/*/*.txt',recursive=True))"
   ]
  },
  {
   "cell_type": "code",
   "execution_count": 64,
   "metadata": {},
   "outputs": [
    {
     "name": "stdout",
     "output_type": "stream",
     "text": [
      "['./index.php']\n"
     ]
    }
   ],
   "source": [
    "print(glob.glob('./*.php',recursive=True))"
   ]
  },
  {
   "cell_type": "code",
   "execution_count": 66,
   "metadata": {},
   "outputs": [
    {
     "name": "stdout",
     "output_type": "stream",
     "text": [
      "[]\n",
      "['./serialization/data.json']\n",
      "[]\n"
     ]
    }
   ],
   "source": [
    "print(glob.glob('./*.json',recursive=True))\n",
    "print(glob.glob('./*/*.json',recursive=True))\n",
    "print(glob.glob('./*/*/*.json',recursive=True))"
   ]
  },
  {
   "cell_type": "code",
   "execution_count": null,
   "metadata": {},
   "outputs": [],
   "source": []
  }
 ],
 "metadata": {
  "kernelspec": {
   "display_name": "Python 3",
   "language": "python",
   "name": "python3"
  },
  "language_info": {
   "codemirror_mode": {
    "name": "ipython",
    "version": 3
   },
   "file_extension": ".py",
   "mimetype": "text/x-python",
   "name": "python",
   "nbconvert_exporter": "python",
   "pygments_lexer": "ipython3",
   "version": "3.6.11"
  }
 },
 "nbformat": 4,
 "nbformat_minor": 4
}
