{
 "cells": [
  {
   "cell_type": "markdown",
   "metadata": {},
   "source": [
    "# Python Utility Tools\n",
    "* File and Directory\n",
    "    * OS\n",
    "    * glob\n",
    "    * fnmatch\n",
    "* Serializer\n",
    "    * JSON\n",
    "    * Pickle\n",
    "* Datetime"
   ]
  },
  {
   "cell_type": "markdown",
   "metadata": {},
   "source": [
    "# File and Directory"
   ]
  },
  {
   "cell_type": "markdown",
   "metadata": {},
   "source": [
    "## Bash Shell Command for Unix\n",
    "These are bash commands\n",
    "```sh\n",
    "  cd\n",
    "  pwd\n",
    "  ls\n",
    "  tree\n",
    "```"
   ]
  },
  {
   "cell_type": "code",
   "execution_count": 206,
   "metadata": {},
   "outputs": [
    {
     "name": "stdout",
     "output_type": "stream",
     "text": [
      "/home/wasit/github/el/dsi200_demo\n"
     ]
    }
   ],
   "source": [
    "cd /home/wasit/github/el/dsi200_demo"
   ]
  },
  {
   "cell_type": "code",
   "execution_count": 207,
   "metadata": {},
   "outputs": [
    {
     "name": "stdout",
     "output_type": "stream",
     "text": [
      "/home/wasit/github/el/dsi200_demo\n"
     ]
    }
   ],
   "source": [
    "%%sh\n",
    "pwd"
   ]
  },
  {
   "cell_type": "code",
   "execution_count": 208,
   "metadata": {},
   "outputs": [
    {
     "name": "stdout",
     "output_type": "stream",
     "text": [
      "'02 print and input.ipynb'                 '09 Python Utility Tools.ipynb'\r\n",
      "'03 Python Variables and Operators.ipynb'   helloworld.ipynb\r\n",
      "'04 Iterable, For-Loop, String.ipynb'       \u001b[0m\u001b[01;34mmy_dir\u001b[0m/\r\n",
      "'05 Python Function.ipynb'                  mymodule.py\r\n",
      "'06 Object Oriented Programming.ipynb'      \u001b[01;34mmypackage\u001b[0m/\r\n",
      "'07 Inheritance.ipynb'                      \u001b[01;34m__pycache__\u001b[0m/\r\n",
      "'08 Module and Package.ipynb'               requirements.txt\r\n"
     ]
    }
   ],
   "source": [
    "ls"
   ]
  },
  {
   "cell_type": "code",
   "execution_count": 209,
   "metadata": {},
   "outputs": [
    {
     "name": "stdout",
     "output_type": "stream",
     "text": [
      ".\n",
      "├── 02 print and input.ipynb\n",
      "├── 03 Python Variables and Operators.ipynb\n",
      "├── 04 Iterable, For-Loop, String.ipynb\n",
      "├── 05 Python Function.ipynb\n",
      "├── 06 Object Oriented Programming.ipynb\n",
      "├── 07 Inheritance.ipynb\n",
      "├── 08 Module and Package.ipynb\n",
      "├── 09 Python Utility Tools.ipynb\n",
      "├── helloworld.ipynb\n",
      "├── my_dir\n",
      "│   ├── dataset1\n",
      "│   │   ├── a.txt\n",
      "│   │   └── b.txt\n",
      "│   ├── dataset2\n",
      "│   │   ├── c.txt\n",
      "│   │   ├── dataset3\n",
      "│   │   │   ├── e.txt\n",
      "│   │   │   └── f.txt\n",
      "│   │   └── d.txt\n",
      "│   ├── index.php\n",
      "│   └── readme.txt\n",
      "├── mymodule.py\n",
      "├── mypackage\n",
      "│   ├── __init__.py\n",
      "│   ├── myrectangle.py\n",
      "│   ├── mytextbox.py\n",
      "│   └── __pycache__\n",
      "│       ├── __init__.cpython-36.pyc\n",
      "│       ├── myrectangle.cpython-36.pyc\n",
      "│       └── mytextbox.cpython-36.pyc\n",
      "├── __pycache__\n",
      "│   └── mymodule.cpython-36.pyc\n",
      "└── requirements.txt\n",
      "\n",
      "7 directories, 26 files\n"
     ]
    }
   ],
   "source": [
    "%%sh\n",
    "tree"
   ]
  },
  {
   "cell_type": "markdown",
   "metadata": {},
   "source": [
    "## note\n",
    "```python\n",
    "    os.makedirs(dir_name)\n",
    "        #create a new directory\n",
    "    os.removedirs(dir_name)\n",
    "        #delete the directory\n",
    "    rel_path = os.curdir()\n",
    "        #check current location in relative path\n",
    "    abs_path = os.path.abspath(path)\n",
    "        #check current location in absolute path\n",
    "    new_path = os.path.join(path,dir_name)\n",
    "        #crete a new path by joining existing path and directory\n",
    "    path     = os.chdir(next_dir)\n",
    "        #change path to next directory\n",
    "    dir_list = os.listdir()\n",
    "        #list files and subdirectory at the current location\n",
    "    os.walk()\n",
    "        #transversing through all directories\n",
    "    glob\n",
    "        #list all matching path\n",
    "```"
   ]
  },
  {
   "cell_type": "markdown",
   "metadata": {},
   "source": [
    "## Create and Delete Directory"
   ]
  },
  {
   "cell_type": "code",
   "execution_count": 211,
   "metadata": {},
   "outputs": [],
   "source": [
    "import os\n",
    "dir_name='new_dir'\n",
    "if not os.path.exists(dir_name):\n",
    "    os.makedirs(dir_name)"
   ]
  },
  {
   "cell_type": "code",
   "execution_count": 212,
   "metadata": {},
   "outputs": [
    {
     "name": "stdout",
     "output_type": "stream",
     "text": [
      "'02 print and input.ipynb'                  helloworld.ipynb\r\n",
      "'03 Python Variables and Operators.ipynb'   \u001b[0m\u001b[01;34mmy_dir\u001b[0m/\r\n",
      "'04 Iterable, For-Loop, String.ipynb'       mymodule.py\r\n",
      "'05 Python Function.ipynb'                  \u001b[01;34mmypackage\u001b[0m/\r\n",
      "'06 Object Oriented Programming.ipynb'      \u001b[01;34mnew_dir\u001b[0m/\r\n",
      "'07 Inheritance.ipynb'                      \u001b[01;34m__pycache__\u001b[0m/\r\n",
      "'08 Module and Package.ipynb'               requirements.txt\r\n",
      "'09 Python Utility Tools.ipynb'\r\n"
     ]
    }
   ],
   "source": [
    "ls"
   ]
  },
  {
   "cell_type": "code",
   "execution_count": 213,
   "metadata": {},
   "outputs": [],
   "source": [
    "os.removedirs(dir_name)"
   ]
  },
  {
   "cell_type": "code",
   "execution_count": 214,
   "metadata": {},
   "outputs": [
    {
     "name": "stdout",
     "output_type": "stream",
     "text": [
      "'02 print and input.ipynb'                 '09 Python Utility Tools.ipynb'\r\n",
      "'03 Python Variables and Operators.ipynb'   helloworld.ipynb\r\n",
      "'04 Iterable, For-Loop, String.ipynb'       \u001b[0m\u001b[01;34mmy_dir\u001b[0m/\r\n",
      "'05 Python Function.ipynb'                  mymodule.py\r\n",
      "'06 Object Oriented Programming.ipynb'      \u001b[01;34mmypackage\u001b[0m/\r\n",
      "'07 Inheritance.ipynb'                      \u001b[01;34m__pycache__\u001b[0m/\r\n",
      "'08 Module and Package.ipynb'               requirements.txt\r\n"
     ]
    }
   ],
   "source": [
    "ls"
   ]
  },
  {
   "cell_type": "markdown",
   "metadata": {},
   "source": [
    "## Check Current Directory"
   ]
  },
  {
   "cell_type": "code",
   "execution_count": 215,
   "metadata": {},
   "outputs": [
    {
     "data": {
      "text/plain": [
       "'.'"
      ]
     },
     "execution_count": 215,
     "metadata": {},
     "output_type": "execute_result"
    }
   ],
   "source": [
    "#current directory (relative path)\n",
    "import os\n",
    "path=os.curdir \n",
    "path"
   ]
  },
  {
   "cell_type": "code",
   "execution_count": 217,
   "metadata": {},
   "outputs": [
    {
     "data": {
      "text/plain": [
       "'/home/wasit/github/el/dsi200_demo'"
      ]
     },
     "execution_count": 217,
     "metadata": {},
     "output_type": "execute_result"
    }
   ],
   "source": [
    "#current directory (absolute path)\n",
    "path=os.path.abspath(os.curdir)\n",
    "path"
   ]
  },
  {
   "cell_type": "markdown",
   "metadata": {},
   "source": [
    "## Change Directory using Python"
   ]
  },
  {
   "cell_type": "code",
   "execution_count": 218,
   "metadata": {},
   "outputs": [],
   "source": [
    "path=os.path.abspath(os.curdir)\n",
    "working_dir=os.path.join(path,'my_dir')"
   ]
  },
  {
   "cell_type": "code",
   "execution_count": 219,
   "metadata": {},
   "outputs": [
    {
     "data": {
      "text/plain": [
       "'/home/wasit/github/el/dsi200_demo'"
      ]
     },
     "execution_count": 219,
     "metadata": {},
     "output_type": "execute_result"
    }
   ],
   "source": [
    "pwd"
   ]
  },
  {
   "cell_type": "code",
   "execution_count": 220,
   "metadata": {},
   "outputs": [],
   "source": [
    "os.chdir('my_dir')"
   ]
  },
  {
   "cell_type": "code",
   "execution_count": 221,
   "metadata": {},
   "outputs": [
    {
     "data": {
      "text/plain": [
       "'/home/wasit/github/el/dsi200_demo/my_dir'"
      ]
     },
     "execution_count": 221,
     "metadata": {},
     "output_type": "execute_result"
    }
   ],
   "source": [
    "pwd"
   ]
  },
  {
   "cell_type": "code",
   "execution_count": 222,
   "metadata": {},
   "outputs": [],
   "source": [
    "# this create an error\n",
    "# os.chdir('my_dir')"
   ]
  },
  {
   "cell_type": "code",
   "execution_count": 223,
   "metadata": {},
   "outputs": [],
   "source": [
    "os.chdir(working_dir)"
   ]
  },
  {
   "cell_type": "code",
   "execution_count": 224,
   "metadata": {},
   "outputs": [
    {
     "data": {
      "text/plain": [
       "'/home/wasit/github/el/dsi200_demo/my_dir'"
      ]
     },
     "execution_count": 224,
     "metadata": {},
     "output_type": "execute_result"
    }
   ],
   "source": [
    "pwd"
   ]
  },
  {
   "cell_type": "code",
   "execution_count": 225,
   "metadata": {},
   "outputs": [
    {
     "name": "stdout",
     "output_type": "stream",
     "text": [
      "\u001b[0m\u001b[01;34mdataset1\u001b[0m/  \u001b[01;34mdataset2\u001b[0m/  index.php  readme.txt\r\n"
     ]
    }
   ],
   "source": [
    "ls"
   ]
  },
  {
   "cell_type": "markdown",
   "metadata": {},
   "source": [
    "## List files and directories"
   ]
  },
  {
   "cell_type": "code",
   "execution_count": 80,
   "metadata": {},
   "outputs": [
    {
     "name": "stdout",
     "output_type": "stream",
     "text": [
      ".\n",
      "├── dataset1\n",
      "│   ├── a.txt\n",
      "│   └── b.txt\n",
      "├── dataset2\n",
      "│   ├── c.txt\n",
      "│   ├── dataset3\n",
      "│   │   ├── e.txt\n",
      "│   │   └── f.txt\n",
      "│   └── d.txt\n",
      "└── readme.txt\n",
      "\n",
      "3 directories, 7 files\n"
     ]
    }
   ],
   "source": [
    "%%sh\n",
    "tree"
   ]
  },
  {
   "cell_type": "code",
   "execution_count": 230,
   "metadata": {},
   "outputs": [
    {
     "data": {
      "text/plain": [
       "['dataset2', 'readme.txt', 'index.php', 'dataset1']"
      ]
     },
     "execution_count": 230,
     "metadata": {},
     "output_type": "execute_result"
    }
   ],
   "source": [
    "# Python list directories and files in current position\n",
    "os.listdir() "
   ]
  },
  {
   "cell_type": "code",
   "execution_count": 86,
   "metadata": {},
   "outputs": [
    {
     "name": "stdout",
     "output_type": "stream",
     "text": [
      "./dataset2\n",
      "./dataset1\n",
      "./dataset2/dataset3\n"
     ]
    }
   ],
   "source": [
    "# Python list all directories recursively\n",
    "path='.'\n",
    "for path,dirs,files in os.walk(path):\n",
    "    for d in dirs:\n",
    "        print(os.path.join(path,d))"
   ]
  },
  {
   "cell_type": "code",
   "execution_count": 87,
   "metadata": {},
   "outputs": [
    {
     "name": "stdout",
     "output_type": "stream",
     "text": [
      "./readme.txt\n",
      "./dataset2/c.txt\n",
      "./dataset2/d.txt\n",
      "./dataset2/dataset3/e.txt\n",
      "./dataset2/dataset3/f.txt\n",
      "./dataset1/b.txt\n",
      "./dataset1/a.txt\n"
     ]
    }
   ],
   "source": [
    "# Python list all file in all directories\n",
    "path='.'\n",
    "for path,dirs,files in os.walk(path):\n",
    "    for f in files:\n",
    "        print(os.path.join(path,f))"
   ]
  },
  {
   "cell_type": "markdown",
   "metadata": {},
   "source": [
    "# glob\n",
    "https://en.wikipedia.org/wiki/Glob_(programming)"
   ]
  },
  {
   "cell_type": "code",
   "execution_count": 100,
   "metadata": {},
   "outputs": [
    {
     "data": {
      "text/plain": [
       "['dataset2', 'readme.txt', 'dataset1']"
      ]
     },
     "execution_count": 100,
     "metadata": {},
     "output_type": "execute_result"
    }
   ],
   "source": [
    "glob.glob('*',recursive=True)"
   ]
  },
  {
   "cell_type": "code",
   "execution_count": 97,
   "metadata": {},
   "outputs": [
    {
     "name": "stdout",
     "output_type": "stream",
     "text": [
      "['./readme.txt']\n",
      "['./dataset2/c.txt', './dataset2/d.txt', './dataset1/b.txt', './dataset1/a.txt']\n",
      "['./dataset2/dataset3/e.txt', './dataset2/dataset3/f.txt']\n"
     ]
    }
   ],
   "source": [
    "import glob\n",
    "print(glob.glob('./*.txt',recursive=True))\n",
    "print(glob.glob('./*/*.txt',recursive=True))\n",
    "print(glob.glob('./*/*/*.txt',recursive=True))"
   ]
  },
  {
   "cell_type": "markdown",
   "metadata": {},
   "source": [
    "# JSON"
   ]
  },
  {
   "cell_type": "code",
   "execution_count": 233,
   "metadata": {},
   "outputs": [],
   "source": [
    "data=[\n",
    "    {'name':'Wasit', 'ext':'217'},\n",
    "    {'name':'Einstein', 'ext':'218'},\n",
    "    {'name':'David', 'ext':'219'},\n",
    "]"
   ]
  },
  {
   "cell_type": "code",
   "execution_count": 234,
   "metadata": {},
   "outputs": [
    {
     "data": {
      "text/plain": [
       "[{'name': 'Wasit', 'ext': '217'},\n",
       " {'name': 'Einstein', 'ext': '218'},\n",
       " {'name': 'David', 'ext': '219'}]"
      ]
     },
     "execution_count": 234,
     "metadata": {},
     "output_type": "execute_result"
    }
   ],
   "source": [
    "data"
   ]
  },
  {
   "cell_type": "code",
   "execution_count": 258,
   "metadata": {},
   "outputs": [
    {
     "name": "stdout",
     "output_type": "stream",
     "text": [
      "[{\"name\": \"Wasit\", \"ext\": \"217\"}, {\"name\": \"Einstein\", \"ext\": \"218\"}, {\"name\": \"David\", \"ext\": \"219\"}]\n"
     ]
    }
   ],
   "source": [
    "import json\n",
    "string=json.dumps(data)\n",
    "print(string)"
   ]
  },
  {
   "cell_type": "code",
   "execution_count": 259,
   "metadata": {},
   "outputs": [
    {
     "name": "stdout",
     "output_type": "stream",
     "text": [
      "[]\n"
     ]
    }
   ],
   "source": [
    "data=[]\n",
    "print(data)"
   ]
  },
  {
   "cell_type": "code",
   "execution_count": 260,
   "metadata": {},
   "outputs": [
    {
     "name": "stdout",
     "output_type": "stream",
     "text": [
      "[{'name': 'Wasit', 'ext': '217'}, {'name': 'Einstein', 'ext': '218'}, {'name': 'David', 'ext': '219'}]\n"
     ]
    }
   ],
   "source": [
    "data=json.loads(string)\n",
    "print(data)"
   ]
  },
  {
   "cell_type": "markdown",
   "metadata": {},
   "source": [
    "## Saving JSON file"
   ]
  },
  {
   "cell_type": "code",
   "execution_count": 261,
   "metadata": {},
   "outputs": [],
   "source": [
    "with open(os.path.join('.','serialization/','data.json'),mode='w') as f:\n",
    "    json.dump(data,f)"
   ]
  },
  {
   "cell_type": "code",
   "execution_count": 262,
   "metadata": {},
   "outputs": [
    {
     "name": "stdout",
     "output_type": "stream",
     "text": [
      "[]\n"
     ]
    }
   ],
   "source": [
    "data=[]\n",
    "print(data)"
   ]
  },
  {
   "cell_type": "code",
   "execution_count": 263,
   "metadata": {},
   "outputs": [
    {
     "name": "stdout",
     "output_type": "stream",
     "text": [
      "[{'name': 'Wasit', 'ext': '217'}, {'name': 'Einstein', 'ext': '218'}, {'name': 'David', 'ext': '219'}]\n"
     ]
    }
   ],
   "source": [
    "with open(os.path.join(path,'data.json'),mode='r') as f:\n",
    "    data=json.load(f)\n",
    "print(data)"
   ]
  },
  {
   "cell_type": "markdown",
   "metadata": {},
   "source": [
    "# Datetime"
   ]
  },
  {
   "cell_type": "markdown",
   "metadata": {},
   "source": [
    "## not-aware-timezone"
   ]
  },
  {
   "cell_type": "code",
   "execution_count": 104,
   "metadata": {},
   "outputs": [
    {
     "data": {
      "text/plain": [
       "datetime.datetime(2020, 9, 7, 23, 34, 13, 713513)"
      ]
     },
     "execution_count": 104,
     "metadata": {},
     "output_type": "execute_result"
    }
   ],
   "source": [
    "import datetime as dt\n",
    "import pytz\n",
    "now=dt.datetime.now()\n",
    "now"
   ]
  },
  {
   "cell_type": "code",
   "execution_count": 105,
   "metadata": {},
   "outputs": [
    {
     "data": {
      "text/plain": [
       "'2020-09-07T23:34:13.713513'"
      ]
     },
     "execution_count": 105,
     "metadata": {},
     "output_type": "execute_result"
    }
   ],
   "source": [
    "now.isoformat()"
   ]
  },
  {
   "cell_type": "markdown",
   "metadata": {},
   "source": [
    "## aware-timezone from not-aware-timezone"
   ]
  },
  {
   "cell_type": "code",
   "execution_count": 106,
   "metadata": {},
   "outputs": [
    {
     "data": {
      "text/plain": [
       "'2020-09-07T09:34:13.713513-07:00'"
      ]
     },
     "execution_count": 106,
     "metadata": {},
     "output_type": "execute_result"
    }
   ],
   "source": [
    "now_aware = now.astimezone(pytz.timezone('America/Los_Angeles'))\n",
    "now_aware.isoformat()"
   ]
  },
  {
   "cell_type": "code",
   "execution_count": 107,
   "metadata": {},
   "outputs": [
    {
     "data": {
      "text/plain": [
       "'2020-09-07T16:34:13.713513+00:00'"
      ]
     },
     "execution_count": 107,
     "metadata": {},
     "output_type": "execute_result"
    }
   ],
   "source": [
    "now_aware = now.astimezone(pytz.timezone('UTC'))\n",
    "now_aware.isoformat()"
   ]
  },
  {
   "cell_type": "code",
   "execution_count": 108,
   "metadata": {},
   "outputs": [
    {
     "data": {
      "text/plain": [
       "'2020-09-07T23:34:13.713513+07:00'"
      ]
     },
     "execution_count": 108,
     "metadata": {},
     "output_type": "execute_result"
    }
   ],
   "source": [
    "now_aware = now.astimezone(pytz.timezone('Asia/Bangkok'))\n",
    "now_aware.isoformat()"
   ]
  },
  {
   "cell_type": "code",
   "execution_count": 109,
   "metadata": {},
   "outputs": [
    {
     "data": {
      "text/plain": [
       "<DstTzInfo 'Asia/Bangkok' +07+7:00:00 STD>"
      ]
     },
     "execution_count": 109,
     "metadata": {},
     "output_type": "execute_result"
    }
   ],
   "source": [
    "now_aware.tzinfo"
   ]
  },
  {
   "cell_type": "markdown",
   "metadata": {},
   "source": [
    "## datetime attributes"
   ]
  },
  {
   "cell_type": "code",
   "execution_count": 110,
   "metadata": {},
   "outputs": [
    {
     "data": {
      "text/plain": [
       "2020"
      ]
     },
     "execution_count": 110,
     "metadata": {},
     "output_type": "execute_result"
    }
   ],
   "source": [
    "now_aware.year"
   ]
  },
  {
   "cell_type": "code",
   "execution_count": 111,
   "metadata": {},
   "outputs": [
    {
     "data": {
      "text/plain": [
       "9"
      ]
     },
     "execution_count": 111,
     "metadata": {},
     "output_type": "execute_result"
    }
   ],
   "source": [
    "now_aware.month"
   ]
  },
  {
   "cell_type": "code",
   "execution_count": 112,
   "metadata": {},
   "outputs": [
    {
     "data": {
      "text/plain": [
       "7"
      ]
     },
     "execution_count": 112,
     "metadata": {},
     "output_type": "execute_result"
    }
   ],
   "source": [
    "now_aware.day"
   ]
  },
  {
   "cell_type": "code",
   "execution_count": 113,
   "metadata": {},
   "outputs": [
    {
     "data": {
      "text/plain": [
       "23"
      ]
     },
     "execution_count": 113,
     "metadata": {},
     "output_type": "execute_result"
    }
   ],
   "source": [
    "now_aware.hour"
   ]
  },
  {
   "cell_type": "code",
   "execution_count": 114,
   "metadata": {},
   "outputs": [
    {
     "data": {
      "text/plain": [
       "34"
      ]
     },
     "execution_count": 114,
     "metadata": {},
     "output_type": "execute_result"
    }
   ],
   "source": [
    "now_aware.minute"
   ]
  },
  {
   "cell_type": "code",
   "execution_count": 115,
   "metadata": {},
   "outputs": [
    {
     "data": {
      "text/plain": [
       "13"
      ]
     },
     "execution_count": 115,
     "metadata": {},
     "output_type": "execute_result"
    }
   ],
   "source": [
    "now_aware.second"
   ]
  },
  {
   "cell_type": "code",
   "execution_count": 116,
   "metadata": {},
   "outputs": [
    {
     "data": {
      "text/plain": [
       "0"
      ]
     },
     "execution_count": 116,
     "metadata": {},
     "output_type": "execute_result"
    }
   ],
   "source": [
    "now_aware.weekday()"
   ]
  },
  {
   "cell_type": "markdown",
   "metadata": {},
   "source": [
    "## Datetime to string format\n",
    "https://docs.python.org/3/library/datetime.html#strftime-and-strptime-format-codes"
   ]
  },
  {
   "cell_type": "code",
   "execution_count": 145,
   "metadata": {},
   "outputs": [
    {
     "data": {
      "text/plain": [
       "'07/09/20'"
      ]
     },
     "execution_count": 145,
     "metadata": {},
     "output_type": "execute_result"
    }
   ],
   "source": [
    "dt.datetime.strftime(now,'%d/%m/%y')"
   ]
  },
  {
   "cell_type": "code",
   "execution_count": 149,
   "metadata": {},
   "outputs": [
    {
     "data": {
      "text/plain": [
       "'Monday 07 September 2020 23:34'"
      ]
     },
     "execution_count": 149,
     "metadata": {},
     "output_type": "execute_result"
    }
   ],
   "source": [
    "dt.datetime.strftime(now,'%A %d %B %Y %H:%M')"
   ]
  },
  {
   "cell_type": "code",
   "execution_count": 150,
   "metadata": {},
   "outputs": [
    {
     "data": {
      "text/plain": [
       "'Sep 07 2020'"
      ]
     },
     "execution_count": 150,
     "metadata": {},
     "output_type": "execute_result"
    }
   ],
   "source": [
    "dt.datetime.strftime(now,'%b %d %Y')"
   ]
  },
  {
   "cell_type": "markdown",
   "metadata": {},
   "source": [
    "## String parsing to datetime"
   ]
  },
  {
   "cell_type": "code",
   "execution_count": 153,
   "metadata": {},
   "outputs": [
    {
     "data": {
      "text/plain": [
       "'2020-02-28T00:00:00'"
      ]
     },
     "execution_count": 153,
     "metadata": {},
     "output_type": "execute_result"
    }
   ],
   "source": [
    "d=dt.datetime.strptime('28/02/20', '%d/%m/%y')\n",
    "d.isoformat()"
   ]
  },
  {
   "cell_type": "code",
   "execution_count": 155,
   "metadata": {},
   "outputs": [
    {
     "data": {
      "text/plain": [
       "'2020-02-28T00:00:00'"
      ]
     },
     "execution_count": 155,
     "metadata": {},
     "output_type": "execute_result"
    }
   ],
   "source": [
    "d=dt.datetime.strptime('28/02/2020', '%d/%m/%Y')\n",
    "d.isoformat()"
   ]
  },
  {
   "cell_type": "code",
   "execution_count": 133,
   "metadata": {},
   "outputs": [
    {
     "data": {
      "text/plain": [
       "'2020-02-28T00:00:00'"
      ]
     },
     "execution_count": 133,
     "metadata": {},
     "output_type": "execute_result"
    }
   ],
   "source": [
    "d=dt.datetime.strptime('Feb 28 2020', '%b %d %Y')\n",
    "d.isoformat()"
   ]
  },
  {
   "cell_type": "code",
   "execution_count": 134,
   "metadata": {},
   "outputs": [
    {
     "data": {
      "text/plain": [
       "'2020-02-28T00:00:00'"
      ]
     },
     "execution_count": 134,
     "metadata": {},
     "output_type": "execute_result"
    }
   ],
   "source": [
    "d=dt.datetime.strptime('Feb 28 20', '%b %d %y')\n",
    "d.isoformat()"
   ]
  },
  {
   "cell_type": "code",
   "execution_count": 136,
   "metadata": {},
   "outputs": [
    {
     "data": {
      "text/plain": [
       "'2020-02-28T00:00:00+07:00'"
      ]
     },
     "execution_count": 136,
     "metadata": {},
     "output_type": "execute_result"
    }
   ],
   "source": [
    "d_aware=d.astimezone(pytz.timezone('Asia/Bangkok'))\n",
    "d_aware.isoformat()"
   ]
  },
  {
   "cell_type": "code",
   "execution_count": 156,
   "metadata": {},
   "outputs": [
    {
     "data": {
      "text/plain": [
       "'2063-02-28T18:00:00'"
      ]
     },
     "execution_count": 156,
     "metadata": {},
     "output_type": "execute_result"
    }
   ],
   "source": [
    "#ัวันที่ 7 เดือน สิงหาคม ปี 2563 เวลา 18:00น\n",
    "input_text='28/2/63 18:00'\n",
    "d=dt.datetime.strptime(input_text, '%d/%m/%y %H:%M')\n",
    "d.isoformat()"
   ]
  },
  {
   "cell_type": "code",
   "execution_count": 175,
   "metadata": {},
   "outputs": [
    {
     "data": {
      "text/plain": [
       "'2020-02-28T18:00:00'"
      ]
     },
     "execution_count": 175,
     "metadata": {},
     "output_type": "execute_result"
    }
   ],
   "source": [
    "#ัวันที่ 7 เดือน สิงหาคม ปี 2563 เวลา 18:00น\n",
    "input_text='28/2/2563 18:00'\n",
    "d=dt.datetime.strptime(input_text, '%d/%m/%Y %H:%M')\n",
    "d=d.replace(year=d.year-543)\n",
    "d.isoformat()"
   ]
  },
  {
   "cell_type": "code",
   "execution_count": 172,
   "metadata": {},
   "outputs": [
    {
     "data": {
      "text/plain": [
       "datetime.datetime(2020, 2, 28, 18, 0)"
      ]
     },
     "execution_count": 172,
     "metadata": {},
     "output_type": "execute_result"
    }
   ],
   "source": [
    "d.replace(year=2020)"
   ]
  },
  {
   "cell_type": "markdown",
   "metadata": {},
   "source": [
    "## stop watch"
   ]
  },
  {
   "cell_type": "code",
   "execution_count": 117,
   "metadata": {},
   "outputs": [],
   "source": [
    "import time\n",
    "t1=dt.datetime.now()\n",
    "time.sleep(3)\n",
    "t2=dt.datetime.now()"
   ]
  },
  {
   "cell_type": "code",
   "execution_count": 118,
   "metadata": {},
   "outputs": [
    {
     "name": "stdout",
     "output_type": "stream",
     "text": [
      "0:00:03.003504\n"
     ]
    }
   ],
   "source": [
    "delta=t2-t1\n",
    "print(delta)"
   ]
  },
  {
   "cell_type": "code",
   "execution_count": 119,
   "metadata": {},
   "outputs": [
    {
     "data": {
      "text/plain": [
       "datetime.timedelta"
      ]
     },
     "execution_count": 119,
     "metadata": {},
     "output_type": "execute_result"
    }
   ],
   "source": [
    "type(delta)"
   ]
  },
  {
   "cell_type": "markdown",
   "metadata": {},
   "source": [
    "## time delta"
   ]
  },
  {
   "cell_type": "code",
   "execution_count": 120,
   "metadata": {},
   "outputs": [],
   "source": [
    "# Components of another_year add up to exactly 365 days\n",
    "#from datetime import timedelta\n",
    "year = timedelta(days=365)\n",
    "another_year = timedelta(   weeks=40,\n",
    "                            days=84,\n",
    "                            hours=23,\n",
    "                            minutes=50,\n",
    "                            seconds=600\n",
    "                        )"
   ]
  },
  {
   "cell_type": "code",
   "execution_count": 121,
   "metadata": {},
   "outputs": [
    {
     "data": {
      "text/plain": [
       "True"
      ]
     },
     "execution_count": 121,
     "metadata": {},
     "output_type": "execute_result"
    }
   ],
   "source": [
    "year == another_year"
   ]
  },
  {
   "cell_type": "code",
   "execution_count": 122,
   "metadata": {},
   "outputs": [
    {
     "data": {
      "text/plain": [
       "'2020-09-07T23:34:13.713513+07:00'"
      ]
     },
     "execution_count": 122,
     "metadata": {},
     "output_type": "execute_result"
    }
   ],
   "source": [
    "now_aware.isoformat()"
   ]
  },
  {
   "cell_type": "code",
   "execution_count": 123,
   "metadata": {},
   "outputs": [
    {
     "data": {
      "text/plain": [
       "'2021-09-07T23:34:13.713513+07:00'"
      ]
     },
     "execution_count": 123,
     "metadata": {},
     "output_type": "execute_result"
    }
   ],
   "source": [
    "(now_aware + another_year).isoformat()"
   ]
  },
  {
   "cell_type": "code",
   "execution_count": null,
   "metadata": {},
   "outputs": [],
   "source": []
  },
  {
   "cell_type": "code",
   "execution_count": null,
   "metadata": {},
   "outputs": [],
   "source": []
  }
 ],
 "metadata": {
  "kernelspec": {
   "display_name": "Python 3",
   "language": "python",
   "name": "python3"
  },
  "language_info": {
   "codemirror_mode": {
    "name": "ipython",
    "version": 3
   },
   "file_extension": ".py",
   "mimetype": "text/x-python",
   "name": "python",
   "nbconvert_exporter": "python",
   "pygments_lexer": "ipython3",
   "version": "3.6.11"
  }
 },
 "nbformat": 4,
 "nbformat_minor": 4
}
