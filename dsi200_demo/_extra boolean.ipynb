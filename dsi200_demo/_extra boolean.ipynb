{
 "cells": [
  {
   "cell_type": "markdown",
   "metadata": {},
   "source": [
    "# Boolean"
   ]
  },
  {
   "cell_type": "code",
   "execution_count": 1,
   "metadata": {},
   "outputs": [
    {
     "name": "stdout",
     "output_type": "stream",
     "text": [
      "A\tB\tC\tY\t\n",
      "0\t0\t0\t0\t\n",
      "0\t0\t1\t0\t\n",
      "0\t1\t0\t0\t\n",
      "0\t1\t1\t0\t\n",
      "1\t0\t0\t0\t\n",
      "1\t0\t1\t0\t\n",
      "1\t1\t0\t1\t\n",
      "1\t1\t1\t1\t\n"
     ]
    }
   ],
   "source": [
    "literal = ['A','B','C','Y']\n",
    "for i in literal:\n",
    "    print(i,end='\\t')\n",
    "print()\n",
    "\n",
    "for a in [0,1]:\n",
    "    for b in [0,1]:\n",
    "        for c in [0,1]:\n",
    "            print(a,end='\\t')\n",
    "            print(b,end='\\t')\n",
    "            print(c,end='\\t')\n",
    "            print(a and b,end='\\t')\n",
    "            print()"
   ]
  },
  {
   "cell_type": "code",
   "execution_count": 2,
   "metadata": {},
   "outputs": [],
   "source": [
    "def truthtable(y=0):\n",
    "    literal=['A','B','C','Y']\n",
    "    for i in literal:\n",
    "        print(i, end =\"\\t\")\n",
    "    print()\n",
    "    for a in [0,1]:\n",
    "        for b in [0,1]:\n",
    "            for c in [0,1]:\n",
    "                print(a, end =\"\\t\")\n",
    "                print(b, end =\"\\t\")\n",
    "                print(c, end =\"\\t\")\n",
    "                print(int(y(a,b,c)), end =\"\\t\")\n",
    "                print()"
   ]
  },
  {
   "cell_type": "code",
   "execution_count": 3,
   "metadata": {},
   "outputs": [
    {
     "name": "stdout",
     "output_type": "stream",
     "text": [
      "A\tB\tC\tY\t\n",
      "0\t0\t0\t0\t\n",
      "0\t0\t1\t0\t\n",
      "0\t1\t0\t0\t\n",
      "0\t1\t1\t0\t\n",
      "1\t0\t0\t0\t\n",
      "1\t0\t1\t0\t\n",
      "1\t1\t0\t1\t\n",
      "1\t1\t1\t1\t\n"
     ]
    }
   ],
   "source": [
    "def y(a,b,c):\n",
    "    return a and b\n",
    "\n",
    "truthtable(y)"
   ]
  },
  {
   "cell_type": "code",
   "execution_count": 4,
   "metadata": {},
   "outputs": [
    {
     "name": "stdout",
     "output_type": "stream",
     "text": [
      "A\tB\tC\tY\t\n",
      "0\t0\t0\t0\t\n",
      "0\t0\t1\t0\t\n",
      "0\t1\t0\t1\t\n",
      "0\t1\t1\t1\t\n",
      "1\t0\t0\t0\t\n",
      "1\t0\t1\t0\t\n",
      "1\t1\t0\t1\t\n",
      "1\t1\t1\t1\t\n"
     ]
    }
   ],
   "source": [
    "y = lambda a,b,c : a and b or not a and b\n",
    "truthtable(y)"
   ]
  },
  {
   "cell_type": "markdown",
   "metadata": {},
   "source": [
    "# Example kmap"
   ]
  },
  {
   "cell_type": "code",
   "execution_count": 5,
   "metadata": {},
   "outputs": [
    {
     "name": "stdout",
     "output_type": "stream",
     "text": [
      "A\tB\tC\tY\t\n",
      "0\t0\t0\t1\t\n",
      "0\t0\t1\t1\t\n",
      "0\t1\t0\t0\t\n",
      "0\t1\t1\t0\t\n",
      "1\t0\t0\t0\t\n",
      "1\t0\t1\t0\t\n",
      "1\t1\t0\t0\t\n",
      "1\t1\t1\t0\t\n"
     ]
    }
   ],
   "source": [
    "#example kmap long\n",
    "y = lambda a,b,c : (not a and not b and not c) or (not a and not b and c)\n",
    "truthtable(y)"
   ]
  },
  {
   "cell_type": "code",
   "execution_count": 6,
   "metadata": {},
   "outputs": [
    {
     "name": "stdout",
     "output_type": "stream",
     "text": [
      "A\tB\tC\tY\t\n",
      "0\t0\t0\t1\t\n",
      "0\t0\t1\t1\t\n",
      "0\t1\t0\t0\t\n",
      "0\t1\t1\t0\t\n",
      "1\t0\t0\t0\t\n",
      "1\t0\t1\t0\t\n",
      "1\t1\t0\t0\t\n",
      "1\t1\t1\t0\t\n"
     ]
    }
   ],
   "source": [
    "#example kmap shot\n",
    "y = lambda a,b,c : (not a and not b)\n",
    "truthtable(y)"
   ]
  },
  {
   "cell_type": "markdown",
   "metadata": {},
   "source": [
    "# Examplr Gennext"
   ]
  },
  {
   "cell_type": "code",
   "execution_count": 7,
   "metadata": {},
   "outputs": [
    {
     "name": "stdout",
     "output_type": "stream",
     "text": [
      "A\tB\tC\tY\t\n",
      "0\t0\t0\t1\t\n",
      "0\t0\t1\t1\t\n",
      "0\t1\t0\t0\t\n",
      "0\t1\t1\t0\t\n",
      "1\t0\t0\t1\t\n",
      "1\t0\t1\t1\t\n",
      "1\t1\t0\t1\t\n",
      "1\t1\t1\t0\t\n"
     ]
    }
   ],
   "source": [
    "#example gennext long\n",
    "y = lambda a,b,c : (not a and not b) or (a and b and not c) or (a and not b)\n",
    "truthtable(y)"
   ]
  },
  {
   "cell_type": "code",
   "execution_count": 8,
   "metadata": {},
   "outputs": [
    {
     "name": "stdout",
     "output_type": "stream",
     "text": [
      "A\tB\tC\tY\t\n",
      "0\t0\t0\t1\t\n",
      "0\t0\t1\t1\t\n",
      "0\t1\t0\t0\t\n",
      "0\t1\t1\t0\t\n",
      "1\t0\t0\t1\t\n",
      "1\t0\t1\t1\t\n",
      "1\t1\t0\t1\t\n",
      "1\t1\t1\t0\t\n"
     ]
    }
   ],
   "source": [
    "#example gennext short\n",
    "y = lambda a,b,c : (a and not c) or (not b)\n",
    "truthtable(y)"
   ]
  },
  {
   "cell_type": "markdown",
   "metadata": {},
   "source": [
    "# Example Bob"
   ]
  },
  {
   "cell_type": "code",
   "execution_count": 9,
   "metadata": {},
   "outputs": [
    {
     "name": "stdout",
     "output_type": "stream",
     "text": [
      "A\tB\tC\tY\t\n",
      "0\t0\t0\t0\t\n",
      "0\t0\t1\t1\t\n",
      "0\t1\t0\t0\t\n",
      "0\t1\t1\t1\t\n",
      "1\t0\t0\t0\t\n",
      "1\t0\t1\t1\t\n",
      "1\t1\t0\t0\t\n",
      "1\t1\t1\t1\t\n"
     ]
    }
   ],
   "source": [
    "# example Bob\n",
    "y = lambda a,b,c : (a and c) or (not b and c) or (not a and b and c)\n",
    "truthtable(y)"
   ]
  },
  {
   "cell_type": "code",
   "execution_count": 10,
   "metadata": {},
   "outputs": [
    {
     "name": "stdout",
     "output_type": "stream",
     "text": [
      "A\tB\tC\tY\t\n",
      "0\t0\t0\t0\t\n",
      "0\t0\t1\t1\t\n",
      "0\t1\t0\t0\t\n",
      "0\t1\t1\t1\t\n",
      "1\t0\t0\t0\t\n",
      "1\t0\t1\t1\t\n",
      "1\t1\t0\t0\t\n",
      "1\t1\t1\t1\t\n"
     ]
    }
   ],
   "source": [
    "y = lambda a,b,c: c\n",
    "truthtable(y)"
   ]
  },
  {
   "cell_type": "markdown",
   "metadata": {},
   "source": [
    "# Set"
   ]
  },
  {
   "cell_type": "code",
   "execution_count": 11,
   "metadata": {},
   "outputs": [],
   "source": [
    "import numpy as np"
   ]
  },
  {
   "cell_type": "code",
   "execution_count": 12,
   "metadata": {},
   "outputs": [],
   "source": [
    "N=20\n",
    "np.random.seed(0)\n",
    "index=np.arange(N)\n",
    "A=np.random.randint(low=0,high=2,size=N)\n",
    "B=np.random.randint(low=0,high=2,size=N)\n",
    "C=np.random.randint(low=0,high=2,size=N)"
   ]
  },
  {
   "cell_type": "code",
   "execution_count": 13,
   "metadata": {},
   "outputs": [
    {
     "name": "stdout",
     "output_type": "stream",
     "text": [
      "(0, 0, 0, 0)\n",
      "(1, 1, 1, 1)\n",
      "(2, 1, 1, 0)\n",
      "(3, 0, 0, 1)\n",
      "(4, 1, 0, 1)\n",
      "(5, 1, 1, 1)\n",
      "(6, 1, 1, 1)\n",
      "(7, 1, 1, 1)\n",
      "(8, 1, 1, 0)\n",
      "(9, 1, 0, 1)\n",
      "(10, 1, 1, 0)\n",
      "(11, 0, 0, 1)\n",
      "(12, 0, 1, 1)\n",
      "(13, 1, 0, 1)\n",
      "(14, 0, 1, 1)\n",
      "(15, 0, 1, 0)\n",
      "(16, 0, 0, 1)\n",
      "(17, 0, 1, 0)\n",
      "(18, 0, 1, 0)\n",
      "(19, 1, 0, 1)\n"
     ]
    }
   ],
   "source": [
    "for r in zip(index,A,B,C):\n",
    "    print(r)"
   ]
  },
  {
   "cell_type": "code",
   "execution_count": 14,
   "metadata": {},
   "outputs": [
    {
     "name": "stdout",
     "output_type": "stream",
     "text": [
      "index\tA\tB\tC\tY\n",
      "0\t0\t0\t0\t0\n",
      "1\t1\t1\t1\t0\n",
      "2\t1\t1\t0\t0\n",
      "3\t0\t0\t1\t0\n",
      "4\t1\t0\t1\t1\n",
      "5\t1\t1\t1\t0\n",
      "6\t1\t1\t1\t0\n",
      "7\t1\t1\t1\t0\n",
      "8\t1\t1\t0\t0\n",
      "9\t1\t0\t1\t1\n",
      "10\t1\t1\t0\t0\n",
      "11\t0\t0\t1\t0\n",
      "12\t0\t1\t1\t0\n",
      "13\t1\t0\t1\t1\n",
      "14\t0\t1\t1\t0\n",
      "15\t0\t1\t0\t0\n",
      "16\t0\t0\t1\t0\n",
      "17\t0\t1\t0\t0\n",
      "18\t0\t1\t0\t0\n",
      "19\t1\t0\t1\t1\n"
     ]
    }
   ],
   "source": [
    "print('index\\tA\\tB\\tC\\tY')\n",
    "for r in zip(index,A,B,C):\n",
    "    i = r[0]\n",
    "    a = r[1]\n",
    "    b = r[2]\n",
    "    c = r[3]\n",
    "    print(i, end='\\t')\n",
    "    print(a, end='\\t')\n",
    "    print(b, end='\\t')\n",
    "    print(c, end='\\t')\n",
    "    print(int(a and not b ))"
   ]
  },
  {
   "cell_type": "code",
   "execution_count": 15,
   "metadata": {},
   "outputs": [
    {
     "data": {
      "text/plain": [
       "array([False, False, False, False,  True, False, False, False, False,\n",
       "        True, False, False, False,  True, False, False, False, False,\n",
       "       False,  True])"
      ]
     },
     "execution_count": 15,
     "metadata": {},
     "output_type": "execute_result"
    }
   ],
   "source": [
    "np.logical_and(A,np.logical_not(B))"
   ]
  },
  {
   "cell_type": "code",
   "execution_count": 16,
   "metadata": {},
   "outputs": [
    {
     "data": {
      "text/plain": [
       "array([ 4,  9, 13, 19])"
      ]
     },
     "execution_count": 16,
     "metadata": {},
     "output_type": "execute_result"
    }
   ],
   "source": [
    "index[np.logical_and(A,np.logical_not(B))]"
   ]
  },
  {
   "cell_type": "code",
   "execution_count": 17,
   "metadata": {},
   "outputs": [
    {
     "data": {
      "text/plain": [
       "7"
      ]
     },
     "execution_count": 17,
     "metadata": {},
     "output_type": "execute_result"
    }
   ],
   "source": [
    "#N(A^B)\n",
    "np.count_nonzero(\n",
    "    np.logical_and(A,B)\n",
    ")"
   ]
  },
  {
   "cell_type": "code",
   "execution_count": 18,
   "metadata": {},
   "outputs": [
    {
     "data": {
      "text/plain": [
       "11"
      ]
     },
     "execution_count": 18,
     "metadata": {},
     "output_type": "execute_result"
    }
   ],
   "source": [
    "#N(A)\n",
    "np.count_nonzero(A)"
   ]
  },
  {
   "cell_type": "code",
   "execution_count": 19,
   "metadata": {},
   "outputs": [
    {
     "data": {
      "text/plain": [
       "12"
      ]
     },
     "execution_count": 19,
     "metadata": {},
     "output_type": "execute_result"
    }
   ],
   "source": [
    "#N(B)\n",
    "np.count_nonzero(B)"
   ]
  },
  {
   "cell_type": "code",
   "execution_count": 20,
   "metadata": {},
   "outputs": [
    {
     "data": {
      "text/plain": [
       "16"
      ]
     },
     "execution_count": 20,
     "metadata": {},
     "output_type": "execute_result"
    }
   ],
   "source": [
    "#N(AUB)\n",
    "np.count_nonzero(\n",
    "    np.logical_or(A,B)\n",
    ")"
   ]
  },
  {
   "cell_type": "code",
   "execution_count": 21,
   "metadata": {},
   "outputs": [],
   "source": [
    "#N(AUB) = N(A) + N(B) - N(A^B)\n",
    "#16 = 11 + 12 -7"
   ]
  },
  {
   "cell_type": "code",
   "execution_count": null,
   "metadata": {},
   "outputs": [],
   "source": []
  },
  {
   "cell_type": "code",
   "execution_count": null,
   "metadata": {},
   "outputs": [],
   "source": []
  }
 ],
 "metadata": {
  "kernelspec": {
   "display_name": "Python 3",
   "language": "python",
   "name": "python3"
  },
  "language_info": {
   "codemirror_mode": {
    "name": "ipython",
    "version": 3
   },
   "file_extension": ".py",
   "mimetype": "text/x-python",
   "name": "python",
   "nbconvert_exporter": "python",
   "pygments_lexer": "ipython3",
   "version": "3.6.11"
  }
 },
 "nbformat": 4,
 "nbformat_minor": 4
}
